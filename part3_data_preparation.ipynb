{
 "cells": [
  {
   "cell_type": "markdown",
   "id": "a972f82f",
   "metadata": {},
   "source": [
    "### Part 3: Practical Data Preparation (`part3_data_preparation.ipynb`)"
   ]
  },
  {
   "cell_type": "code",
   "execution_count": null,
   "id": "516e2649",
   "metadata": {
    "vscode": {
     "languageId": "plaintext"
    }
   },
   "outputs": [],
   "source": [
    "# Install necessary packages\n",
    "\n",
    "# %pip install -r requirements.txt"
   ]
  },
  {
   "cell_type": "code",
   "execution_count": null,
   "id": "164387d4",
   "metadata": {
    "vscode": {
     "languageId": "plaintext"
    }
   },
   "outputs": [],
   "source": [
    "## 1. Setup\n",
    "\n",
    "import pandas as pd\n",
    "import numpy as np\n",
    "import os\n",
    "from sklearn.model_selection import train_test_split\n",
    "from sklearn.preprocessing import OneHotEncoder\n",
    "from sklearn.linear_model import LogisticRegression\n",
    "from sklearn.metrics import accuracy_score, precision_score, recall_score, f1_score, roc_auc_score, confusion_matrix\n",
    "from sklearn.impute import SimpleImputer\n",
    "from imblearn.over_sampling import SMOTE"
   ]
  },
  {
   "cell_type": "code",
   "execution_count": null,
   "id": "17ad1ed6",
   "metadata": {
    "vscode": {
     "languageId": "plaintext"
    }
   },
   "outputs": [],
   "source": [
    "## 2. Data Loading\n",
    "\n",
    "def load_data(file_path):\n",
    "    \"\"\"\n",
    "    Load the synthetic health data from a CSV file.\n",
    "    \n",
    "    Args:\n",
    "        file_path: Path to the CSV file\n",
    "        \n",
    "    Returns:\n",
    "        DataFrame containing the data\n",
    "    \"\"\"\n",
    "    try:\n",
    "        df = pd.read_csv(file_path)\n",
    "        return df\n",
    "    \n",
    "    except FileNotFoundError:\n",
    "        print(f\"Error: File not found: '{file_path}'\")\n",
    "        return pd.DataFrame()\n"
   ]
  },
  {
   "cell_type": "markdown",
   "id": "ff382c96",
   "metadata": {},
   "source": [
    "1. **Encode Categorical Features:** Use One-Hot Encoding for the `smoker_status` column to transform the categorical variable into numerical features."
   ]
  },
  {
   "cell_type": "code",
   "execution_count": null,
   "id": "43fccd82",
   "metadata": {
    "vscode": {
     "languageId": "plaintext"
    }
   },
   "outputs": [],
   "source": [
    "\n",
    "## 3. Categorical Feature Encoding\n",
    "\n",
    "def encode_categorical_features(df, column_to_encode = 'smoker_status'):\n",
    "    \"\"\"\n",
    "    Encode a categorical column using OneHotEncoder.\n",
    "\n",
    "    Args:\n",
    "        df: Input DataFrame\n",
    "        column_to_encode: Name of the categorical column to encode\n",
    "\n",
    "    Returns:\n",
    "        DataFrame with the categorical column replaced by one-hot encoded columns\n",
    "    \"\"\"\n",
    "    values = df[[column_to_encode]] # separate column\n",
    "\n",
    "    encoder = OneHotEncoder(drop = 'first', sparse_output = False) # more than one smoker status? drop = 'first'\n",
    "    encoded_array = encoder.fit_transform(df[[column_to_encode]])\n",
    "    encoded_columns = encoder.get_feature_names_out([column_to_encode])\n",
    "    \n",
    "    encoded_df = pd.DataFrame(encoded_array, columns = encoded_columns, index = df.index) # redo the values based on data\n",
    "    \n",
    "    df_encoded = df.drop(columns = [column_to_encode]) # drop original column\n",
    "    df_encoded = pd.concat([df_encoded, encoded_df], axis = 1) # add new column\n",
    "    \n",
    "    return df_encoded\n",
    "\n"
   ]
  },
  {
   "cell_type": "markdown",
   "id": "f6830750",
   "metadata": {},
   "source": [
    "\n",
    "2. **Prepare Data:** Select features (including the one-hot encoded ones) and the target. Split into train/test sets."
   ]
  },
  {
   "cell_type": "code",
   "execution_count": null,
   "id": "f97af1f1",
   "metadata": {
    "vscode": {
     "languageId": "plaintext"
    }
   },
   "outputs": [],
   "source": [
    "\n",
    "## 4. Data Preparation\n",
    "\n",
    "def prepare_data_part3(df, test_size=0.2, random_state=42):\n",
    "    \"\"\"\n",
    "    Prepare data with categorical encoding.\n",
    "    \n",
    "    Args:\n",
    "        df: Input DataFrame\n",
    "        test_size: Proportion of data for testing\n",
    "        random_state: Random seed for reproducibility\n",
    "        \n",
    "    Returns:\n",
    "        X_train, X_test, y_train, y_test\n",
    "    \"\"\"\n",
    "    # 1. Encode categorical features using the encode_categorical_features function\n",
    "    df_encoded = encode_categorical_features(df, column_to_encode='smoker_status')\n",
    "    \n",
    "    # 2. Select relevant features (including the one-hot encoded ones) and the target\n",
    "    features = ['age', 'systolic_bp', 'diastolic_bp', 'glucose_level', 'bmi'] + \\\n",
    "               [col for col in df_encoded.columns if col.startswith('smoker_status_')]\n",
    "    # encoded columns appear with 'smoker_status_YADA_YADA_HERE' withe the text listed\n",
    "    X = df_encoded[features]\n",
    "    y = df_encoded['disease_outcome']\n",
    "    \n",
    "    # 3. Split data into training and testing sets\n",
    "    X_train, X_test, y_train, y_test = train_test_split(X, y, test_size = test_size, random_state = random_state, stratify = y)\n",
    "    \n",
    "    # 4. Handle missing values\n",
    "    imputer = SimpleImputer(strategy='mean')\n",
    "    X_train = imputer.fit_transform(X_train)\n",
    "    X_test = imputer.transform(X_test)\n",
    "    \n",
    "    return X_train, X_test, y_train, y_test\n",
    "\n"
   ]
  },
  {
   "cell_type": "markdown",
   "id": "e435a8e9",
   "metadata": {},
   "source": [
    "\n",
    "3. **Apply SMOTE:** Oversample the minority class in the training data."
   ]
  },
  {
   "cell_type": "code",
   "execution_count": null,
   "id": "7a46f3e3",
   "metadata": {
    "vscode": {
     "languageId": "plaintext"
    }
   },
   "outputs": [],
   "source": [
    "\n",
    "## 5. Handling Imbalanced Data\n",
    "\n",
    "def apply_smote(X_train, y_train, random_state = 42):\n",
    "    \"\"\"\n",
    "    Apply SMOTE to oversample the minority class.\n",
    "    \n",
    "    Args:\n",
    "        X_train: Training features\n",
    "        y_train: Training target\n",
    "        random_state: Random seed for reproducibility\n",
    "        \n",
    "    Returns:\n",
    "        Resampled X_train and y_train with balanced classes\n",
    "    \"\"\"\n",
    "    # Apply SMOTE to balance the classes\n",
    "    smote = SMOTE(random_state=random_state)\n",
    "    \n",
    "    X_train_smote, y_train_smote = smote.fit_resample(X_train, y_train)\n",
    "    \n",
    "    # Placeholder return - replace with your implementation\n",
    "    return X_train_smote, y_train_smote\n",
    "\n"
   ]
  },
  {
   "cell_type": "markdown",
   "id": "0421384f",
   "metadata": {},
   "source": [
    "\n",
    "4. **Retrain and Evaluate:** Train a Logistic Regression model on the balanced data and evaluate on the original test set."
   ]
  },
  {
   "cell_type": "code",
   "execution_count": null,
   "id": "114e7eb2",
   "metadata": {
    "vscode": {
     "languageId": "plaintext"
    }
   },
   "outputs": [],
   "source": [
    "\n",
    "## 6. Model Training and Evaluation\n",
    "\n",
    "def train_logistic_regression(X_train, y_train):\n",
    "    \"\"\"\n",
    "    Train a logistic regression model.\n",
    "    \n",
    "    Args:\n",
    "        X_train: Training features\n",
    "        y_train: Training target\n",
    "        \n",
    "    Returns:\n",
    "        Trained logistic regression model\n",
    "    \"\"\"\n",
    "    # Initialize and train a LogisticRegression model\n",
    "    model = LogisticRegression(random_state=42, max_iter=1000)\n",
    "    model.fit(X_train, y_train)\n",
    "    \n",
    "    return model  # Replace with actual implementation\n",
    "\n",
    "def calculate_evaluation_metrics(model, X_test, y_test):\n",
    "    \"\"\"\n",
    "    Calculate classification evaluation metrics.\n",
    "    \n",
    "    Args:\n",
    "        model: Trained model\n",
    "        X_test: Test features\n",
    "        y_test: Test target\n",
    "        \n",
    "    Returns:\n",
    "        Dictionary containing accuracy, precision, recall, f1, auc, and confusion_matrix\n",
    "    \"\"\"\n",
    "    # 1. Generate predictions\n",
    "    y_pred = model.predict(X_test)\n",
    "    y_prob = model.predict_proba(X_test)[:, 1]  # probability calc for positive class\n",
    "\n",
    "    # 2. Calculate metrics: accuracy, precision, recall, f1, auc\n",
    "    accuracy = accuracy_score(y_test, y_pred)\n",
    "    precision = precision_score(y_test, y_pred)\n",
    "    recall = recall_score(y_test, y_pred)\n",
    "    f1 = f1_score(y_test, y_pred)\n",
    "    auc = roc_auc_score(y_test, y_prob)\n",
    "    \n",
    "    # 3. Create confusion matrix\n",
    "    cm = confusion_matrix(y_test, y_pred)\n",
    "    \n",
    "    # 4. Return metrics in a dictionary\n",
    "    return {\n",
    "        'accuracy': accuracy,\n",
    "        'precision': precision,\n",
    "        'recall': recall,\n",
    "        'f1': f1,\n",
    "        'auc': auc,\n",
    "        'confusion_matrix': cm\n",
    "    }\n"
   ]
  },
  {
   "cell_type": "markdown",
   "id": "32609cf1",
   "metadata": {},
   "source": [
    "\n",
    "5. **Save Results:** Save the evaluation metrics to `results/results_part3.txt`."
   ]
  },
  {
   "cell_type": "code",
   "execution_count": null,
   "id": "c1c696e3",
   "metadata": {
    "vscode": {
     "languageId": "plaintext"
    }
   },
   "outputs": [],
   "source": [
    "\n",
    "## 7. Save Results\n",
    "import os\n",
    "\n",
    "def save_results(metrics, file_path):\n",
    "    # 1. Create 'results' directory if it doesn't exist\n",
    "    os.makedirs(os.path.dirname(file_path), exist_ok = True) \n",
    "    \n",
    "    with open(file_path, 'w') as f:\n",
    "        f.write(\"Model Evaluation Metrics\\n\")\n",
    "        for metric, value in metrics.items():\n",
    "            if metric == 'confusion_matrix':\n",
    "                f.write(f\"{metric}:\\n{value}\\n\")\n",
    "            #if isinstance(value, (list, tuple)):  # For confusion_matrix\n",
    "            #    f.write(f\"{metric}:\\n\")\n",
    "            #    for row in value:\n",
    "            #        f.write(\" \".join(str(x) for x in row) + \"\\n\")\n",
    "            else:\n",
    "                f.write(f\"{metric}: {value:.4f}\\n\")\n",
    "\n"
   ]
  },
  {
   "cell_type": "markdown",
   "id": "26446af5",
   "metadata": {},
   "source": [
    "\n",
    "6. **Compare Results:** Implement a function `compare_models(part1_metrics, part3_metrics)` that calculates the percentage improvement for each metric between the imbalanced model (Part 1) and the balanced model (Part 3). The function should return a dictionary with metric names as keys and improvement percentages as values. Additionally, write your manual comparison and analysis in the `RESULTS.md` file."
   ]
  },
  {
   "cell_type": "code",
   "execution_count": null,
   "id": "6da0a4b3",
   "metadata": {
    "vscode": {
     "languageId": "plaintext"
    }
   },
   "outputs": [],
   "source": [
    "\n",
    "## 9. Compare Results\n",
    "\n",
    "# added a new definition stuff\n",
    "def parse_metrics_from_file(file_path): # help with pulling the actual data from the file and ignoring all the other stuff\n",
    "    metrics = {}\n",
    "\n",
    "    with open(file_path, 'r') as f:\n",
    "        lines = f.readlines()\n",
    "\n",
    "        # Loop through each line in the file\n",
    "        for line in lines:\n",
    "            line = line.strip()  # Remove leading/trailing whitespaces\n",
    "            \n",
    "            if line.startswith('accuracy:'):\n",
    "                metrics['accuracy'] = float(line.split(':')[1].strip())\n",
    "            elif line.startswith('precision:'):\n",
    "                metrics['precision'] = float(line.split(':')[1].strip())\n",
    "            elif line.startswith('recall:'):\n",
    "                metrics['recall'] = float(line.split(':')[1].strip())\n",
    "            elif line.startswith('f1:'):\n",
    "                metrics['f1'] = float(line.split(':')[1].strip())\n",
    "            elif line.startswith('auc:'):\n",
    "                metrics['auc'] = float(line.split(':')[1].strip())\n",
    "\n",
    "    return metrics\n",
    "\n",
    "def compare_models(part1_metrics, part3_metrics):\n",
    "    \"\"\"\n",
    "    Calculate percentage improvement between models trained on imbalanced vs. balanced data.\n",
    "    \n",
    "    Args:\n",
    "        part1_metrics: Dictionary containing evaluation metrics from Part 1 (imbalanced)\n",
    "        part3_metrics: Dictionary containing evaluation metrics from Part 3 (balanced)\n",
    "        \n",
    "    Returns:\n",
    "        Dictionary with metric names as keys and improvement percentages as values\n",
    "    \"\"\"\n",
    "    \n",
    "    improvements = {}\n",
    "\n",
    "    for metric in ['accuracy', 'precision', 'recall', 'f1', 'auc']: # 2. Handle metrics where higher is better (most metrics) and where lower is better\n",
    "        # assumption here is that higher accuracy, precision, recall, f1, and AUC are good\n",
    "        value1 = part1_metrics.get(metric, 0)\n",
    "        value3 = part3_metrics.get(metric, 0)\n",
    "        \n",
    "        if value1 == 0:\n",
    "            # Avoid division by zero; assume full improvement if value3 > 0\n",
    "            improvements[metric] = float('inf') if value3 > 0 else 0.0\n",
    "        else:\n",
    "            # 1. Calculate percentage improvement for each metric\n",
    "            improvement = ((value3 - value1) / abs(value1)) * 100 \n",
    "            # 3. Return a dictionary with metric names and improvement percentages\n",
    "            improvements[metric] = round(improvement, 2) # rounded to 2 decimals\n",
    "\n",
    "    return improvements\n",
    "\n"
   ]
  },
  {
   "cell_type": "code",
   "execution_count": null,
   "id": "7b3fcfac",
   "metadata": {
    "vscode": {
     "languageId": "plaintext"
    }
   },
   "outputs": [],
   "source": [
    "\n",
    "## 8. Main Execution\n",
    "\n",
    "# Main execution\n",
    "if __name__ == \"__main__\":\n",
    "    # 1. Load data\n",
    "    data_file = 'data/synthetic_health_data.csv'\n",
    "    df = load_data(data_file)\n",
    "    \n",
    "    # 2. Prepare data with categorical encoding\n",
    "    X_train, X_test, y_train, y_test = prepare_data_part3(df)\n",
    "    \n",
    "    # 3. Apply SMOTE to balance the training data\n",
    "    X_train_resampled, y_train_resampled = apply_smote(X_train, y_train)\n",
    "    \n",
    "    # 4. Train model on resampled data\n",
    "    model = train_logistic_regression(X_train_resampled, y_train_resampled)\n",
    "    \n",
    "    # 5. Evaluate on original test set\n",
    "    metrics = calculate_evaluation_metrics(model, X_test, y_test)\n",
    "    \n",
    "    # 6. Print metrics\n",
    "    for metric, value in metrics.items():\n",
    "        if metric != 'confusion_matrix':\n",
    "            print(f\"{metric}: {value:.4f}\")\n",
    "    \n",
    "    # 7. Save results\n",
    "    save_results(metrics, 'results/results_part3.txt')\n",
    "    \n",
    "    # 8. Load Part 1 results for comparison    \n",
    "    import json\n",
    "    try:\n",
    "        #with open('results/results_part1.txt', 'r') as f:\n",
    "        #    part1_metrics = json.load(f)\n",
    "        part1_metrics = parse_metrics_from_file('results/results_part1.txt')\n",
    "        part3_metrics = parse_metrics_from_file('results/results_part3.txt')\n",
    "\n",
    "        comparison = ['accuracy', 'precision', 'recall', 'f1', 'auc']\n",
    "\n",
    "        # 9. Compare models\n",
    "        improvements = compare_models(part1_metrics, part3_metrics) # edited\n",
    "        print(\"\\nModel Comparison (improvement percentages):\") # edited\n",
    "        print(\"(Pt3 - Pt1) / |Pt1|\") # edited\n",
    "        print(improvements) # edited\n",
    "        #for metric, improvement in comparison:\n",
    "        #    print(f\"{metric}: {improvement:.2f}%\")\n",
    "    except FileNotFoundError:\n",
    "        print(\"Part 1 results not found. Run part1_introduction.ipynb first.\")\n"
   ]
  }
 ],
 "metadata": {
  "language_info": {
   "name": "python"
  }
 },
 "nbformat": 4,
 "nbformat_minor": 5
}
