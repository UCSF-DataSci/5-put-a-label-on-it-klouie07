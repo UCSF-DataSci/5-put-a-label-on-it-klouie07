{
 "cells": [
  {
   "cell_type": "markdown",
   "id": "db110d7c",
   "metadata": {},
   "source": [
    "### Part 2: Time Series Features & Tree-Based Models (`part2_feature_engineering.ipynb`)"
   ]
  },
  {
   "cell_type": "code",
   "execution_count": null,
   "id": "a27247e7",
   "metadata": {
    "vscode": {
     "languageId": "plaintext"
    }
   },
   "outputs": [],
   "source": [
    "## Install necessary packages\n",
    "\n",
    "# %pip install -r requirements.txt"
   ]
  },
  {
   "cell_type": "code",
   "execution_count": null,
   "id": "8e14764f",
   "metadata": {
    "vscode": {
     "languageId": "plaintext"
    }
   },
   "outputs": [],
   "source": [
    "## 1. Setup\n",
    "\n",
    "import pandas as pd\n",
    "import numpy as np\n",
    "import os\n",
    "from sklearn.model_selection import train_test_split\n",
    "from sklearn.ensemble import RandomForestClassifier\n",
    "import xgboost as xgb\n",
    "from sklearn.metrics import roc_auc_score\n",
    "from sklearn.impute import SimpleImputer"
   ]
  },
  {
   "cell_type": "code",
   "execution_count": null,
   "id": "d1d6b88d",
   "metadata": {
    "vscode": {
     "languageId": "plaintext"
    }
   },
   "outputs": [],
   "source": [
    "## 2. Data Loading\n",
    "\n",
    "def load_data(file_path): # load using pandas    \n",
    "    try:\n",
    "        df = pd.read_csv(file_path)\n",
    "        return df\n",
    "    \n",
    "    except FileNotFoundError:\n",
    "        print(f\"Error: File not found: '{file_path}'\")\n",
    "        return pd.DataFrame()"
   ]
  },
  {
   "cell_type": "markdown",
   "id": "73ad7124",
   "metadata": {},
   "source": [
    "\n",
    "1. **Extract Features:** Calculate rolling mean and standard deviation for heart rate."
   ]
  },
  {
   "cell_type": "code",
   "execution_count": null,
   "id": "0222bd0b",
   "metadata": {
    "vscode": {
     "languageId": "plaintext"
    }
   },
   "outputs": [],
   "source": [
    "## 3. Feature Engineering\n",
    "\n",
    "def extract_rolling_features(df, window_size_seconds):\n",
    "    \"\"\"\n",
    "    Calculate rolling mean and standard deviation for heart rate.\n",
    "    \n",
    "    Args:\n",
    "        df: DataFrame with timestamp and heart_rate columns\n",
    "        window_size_seconds: Size of the rolling window in seconds\n",
    "        \n",
    "    Returns:\n",
    "        DataFrame with added hr_rolling_mean and hr_rolling_std columns\n",
    "    \"\"\"\n",
    "\n",
    "    df['timestamp'] = pd.to_datetime(df['timestamp'])\n",
    "\n",
    "    # 1. Sort data by timestamp\n",
    "    df_sorted = df.sort_values('timestamp')\n",
    "    \n",
    "    # 2. Set timestamp as index (this allows time-based operations)\n",
    "    df_indexed = df_sorted.set_index('timestamp')\n",
    "    \n",
    "    # 3. Calculate rolling mean and standard deviation\n",
    "    #    - First, create a rolling window object based on time:\n",
    "    rolling_window = df_indexed['heart_rate'].rolling(f'{window_size_seconds}s')\n",
    "    #    - Then calculate statistics on this window:\n",
    "    hr_mean = rolling_window.mean()\n",
    "    hr_std = rolling_window.std()\n",
    "    \n",
    "    # 4. Add the new columns back to the dataframe\n",
    "    df_indexed['hr_rolling_mean'] = hr_mean\n",
    "    df_indexed['hr_rolling_std'] = hr_std\n",
    "    \n",
    "    # 5. Reset index to bring timestamp back as a column\n",
    "    df_result = df_indexed.reset_index()\n",
    "    \n",
    "    # 6. Handle any NaN values (rolling calculations create NaNs at the beginning)\n",
    "    #    - You can use fillna, dropna, or other methods depending on your strategy\n",
    "    df_result = df_result.bfill()  # Example: backward fill\n",
    "    \n",
    "    # Placeholder return - replace with your implementation\n",
    "    return df_result"
   ]
  },
  {
   "cell_type": "markdown",
   "id": "8fff0366",
   "metadata": {},
   "source": [
    "\n",
    "2. **Prepare Data:** Select features including the new rolling features and the target. Split into train/test sets."
   ]
  },
  {
   "cell_type": "code",
   "execution_count": null,
   "id": "e5e9acaf",
   "metadata": {
    "vscode": {
     "languageId": "plaintext"
    }
   },
   "outputs": [],
   "source": [
    "## 4. Data Preparation\n",
    "\n",
    "def prepare_data_part2(df_with_features, test_size=0.2, random_state=42):\n",
    "    \"\"\"\n",
    "    Prepare data for modeling with time-series features.\n",
    "    \n",
    "    Args:\n",
    "        df_with_features: DataFrame with original and rolling features\n",
    "        test_size: Proportion of data for testing\n",
    "        random_state: Random seed for reproducibility\n",
    "        \n",
    "    Returns:\n",
    "        X_train, X_test, y_train, y_test\n",
    "    \"\"\"\n",
    "    # set features\n",
    "    features = ['age', 'systolic_bp', 'diastolic_bp', 'glucose_level', 'bmi', 'hr_rolling_mean', 'hr_rolling_std']\n",
    "    X = df_with_features[features]\n",
    "    \n",
    "    # disease outcome still th y\n",
    "    y = df_with_features['disease_outcome']\n",
    "\n",
    "    # missing fill\n",
    "    imputer = SimpleImputer(strategy='mean')\n",
    "    X_imputed = imputer.fit_transform(X)\n",
    "\n",
    "    X_train, X_test, y_train, y_test = train_test_split(X_imputed, y, test_size=test_size, random_state=random_state)\n",
    "    \n",
    "    return X_train, X_test, y_train, y_test\n"
   ]
  },
  {
   "cell_type": "markdown",
   "id": "a0d0c438",
   "metadata": {},
   "source": [
    "\n",
    "3. **Train Models:** Train Random Forest and XGBoost models."
   ]
  },
  {
   "cell_type": "code",
   "execution_count": null,
   "id": "2a7cc04e",
   "metadata": {
    "vscode": {
     "languageId": "plaintext"
    }
   },
   "outputs": [],
   "source": [
    "## 5. Random Forest Model\n",
    "\n",
    "def train_random_forest(X_train, y_train, n_estimators=100, max_depth=10, random_state=42):\n",
    "    \"\"\"\n",
    "    Train a Random Forest classifier.\n",
    "    \n",
    "    Args:\n",
    "        X_train: Training features\n",
    "        y_train: Training target\n",
    "        n_estimators: Number of trees in the forest\n",
    "        max_depth: Maximum depth of the trees\n",
    "        random_state: Random seed for reproducibility\n",
    "        \n",
    "    Returns:\n",
    "        Trained Random Forest model\n",
    "    \"\"\"\n",
    "    rf_model = RandomForestClassifier(\n",
    "        n_estimators=n_estimators,\n",
    "        max_depth=max_depth,\n",
    "        random_state=random_state\n",
    "    )\n",
    "\n",
    "    rf_model.fit(X_train, y_train)\n",
    "\n",
    "    return rf_model"
   ]
  },
  {
   "cell_type": "code",
   "execution_count": null,
   "id": "2454fe85",
   "metadata": {
    "vscode": {
     "languageId": "plaintext"
    }
   },
   "outputs": [],
   "source": [
    "## 6. XGBoost Model\n",
    "\n",
    "def train_xgboost(X_train, y_train, n_estimators=100, learning_rate=0.1, max_depth=5, random_state=42):\n",
    "    \"\"\"\n",
    "    Train an XGBoost classifier.\n",
    "    \n",
    "    Args:\n",
    "        X_train: Training features\n",
    "        y_train: Training target\n",
    "        n_estimators: Number of boosting rounds\n",
    "        learning_rate: Boosting learning rate\n",
    "        max_depth: Maximum depth of a tree\n",
    "        random_state: Random seed for reproducibility\n",
    "        \n",
    "    Returns:\n",
    "        Trained XGBoost model\n",
    "    \"\"\"\n",
    "    xgb_model = xgb.XGBClassifier(\n",
    "        n_estimators=n_estimators,\n",
    "        learning_rate=learning_rate,\n",
    "        max_depth=max_depth,\n",
    "        use_label_encoder=False, # kept getting a warning\n",
    "        random_state=random_state\n",
    "    )\n",
    "\n",
    "    xgb_model.fit(X_train, y_train)\n",
    "\n",
    "    return xgb_model\n",
    "\n"
   ]
  },
  {
   "cell_type": "markdown",
   "id": "4b28f9ab",
   "metadata": {},
   "source": [
    "\n",
    "4. **Compare Models:** Calculate and compare AUC scores for both models."
   ]
  },
  {
   "cell_type": "code",
   "execution_count": null,
   "id": "1ac61f89",
   "metadata": {
    "vscode": {
     "languageId": "plaintext"
    }
   },
   "outputs": [],
   "source": [
    "## 7. Model Comparison\n",
    "\n",
    "def compare_model_auc(random_forest_model, xgboost_model, X_test, y_test):\n",
    "    # 1. Generate probability predictions for both models\n",
    "    rf_probs = random_forest_model.predict_proba(X_test)[:, 1]\n",
    "    xgb_probs = xgboost_model.predict_proba(X_test)[:, 1]\n",
    "    \n",
    "    # 2. Calculate AUC scores\n",
    "    rf_auc = roc_auc_score(y_test, rf_probs)\n",
    "    xgb_auc = roc_auc_score(y_test, xgb_probs)\n",
    "    \n",
    "    # 3. Compare the performance\n",
    "    return {\n",
    "        'random_forest_auc': rf_auc,\n",
    "        'xgboost_auc': xgb_auc\n",
    "    }\n",
    "\n"
   ]
  },
  {
   "cell_type": "markdown",
   "id": "1295c4c3",
   "metadata": {},
   "source": [
    "\n",
    "5. **Save Results:** Save the AUC scores to `results/results_part2.txt`."
   ]
  },
  {
   "cell_type": "code",
   "execution_count": null,
   "id": "8a8636a5",
   "metadata": {
    "vscode": {
     "languageId": "plaintext"
    }
   },
   "outputs": [],
   "source": [
    "## 8. Save Results\n",
    "import os\n",
    "\n",
    "def save_auc_scores(auc_scores, file_path='results/results_part2.txt'):\n",
    "    \"\"\"\n",
    "    Save AUC scores to a text file.\n",
    "    \n",
    "    Args:\n",
    "        auc_scores: Dictionary with AUC scores\n",
    "        file_path: File path to save the scores\n",
    "    \"\"\"\n",
    "    # 1. Create 'results' directory if it doesn't exist\n",
    "    os.makedirs(os.path.dirname(file_path), exist_ok=True)\n",
    "    \n",
    "    with open(file_path, 'w') as f:\n",
    "        f.write(\"AUC for Part 2 (Random Forest vs XGBoost AUC)\\n\")\n",
    "        \n",
    "        # 2. Format AUC scores as strings\n",
    "        random_forest_auc_str = f\"{auc_scores['random_forest_auc']:.4f}\"\n",
    "        xgboost_auc_str = f\"{auc_scores['xgboost_auc']:.4f}\"\n",
    "        \n",
    "        # 3. Write scores to 'results/results_part2.txt'\n",
    "        f.write(f\"Random Forest AUC: {random_forest_auc_str}\\n\")\n",
    "        f.write(f\"XGBoost AUC: {xgboost_auc_str}\\n\")\n"
   ]
  },
  {
   "cell_type": "code",
   "execution_count": null,
   "id": "65513a07",
   "metadata": {
    "vscode": {
     "languageId": "plaintext"
    }
   },
   "outputs": [],
   "source": [
    "\n",
    "## 9. Main Execution\n",
    "\n",
    "# Main execution\n",
    "if __name__ == \"__main__\":\n",
    "    # 1. Load data\n",
    "    data_file = 'data/synthetic_health_data.csv'\n",
    "    df = load_data(data_file)\n",
    "    \n",
    "    # 2. Extract rolling features\n",
    "    window_size = 300  # 5 minutes in seconds\n",
    "    df_with_features = extract_rolling_features(df, window_size)\n",
    "    \n",
    "    # 3. Prepare data\n",
    "    X_train, X_test, y_train, y_test = prepare_data_part2(df_with_features, test_size=0.2, random_state=42)\n",
    "    \n",
    "    # 4. Train models\n",
    "    rf_model = train_random_forest(X_train, y_train)\n",
    "    xgb_model = train_xgboost(X_train, y_train)\n",
    "    \n",
    "    # 5. Calculate AUC scores\n",
    "    rf_probs = rf_model.predict_proba(X_test)[:, 1]\n",
    "    xgb_probs = xgb_model.predict_proba(X_test)[:, 1]\n",
    "    \n",
    "    rf_auc = roc_auc_score(y_test, rf_probs)\n",
    "    xgb_auc = roc_auc_score(y_test, xgb_probs)\n",
    "    \n",
    "    print(f\"Random Forest AUC: {rf_auc:.4f}\")\n",
    "    print(f\"XGBoost AUC: {xgb_auc:.4f}\")\n",
    "    \n",
    "    # 6. Save results\n",
    "    auc_scores = { # dictionary\n",
    "        'random_forest_auc': rf_auc,\n",
    "        'xgboost_auc': xgb_auc\n",
    "    }\n",
    "    \n",
    "    save_auc_scores(auc_scores)"
   ]
  }
 ],
 "metadata": {
  "language_info": {
   "name": "python"
  }
 },
 "nbformat": 4,
 "nbformat_minor": 5
}
